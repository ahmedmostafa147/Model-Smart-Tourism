{
 "cells": [
  {
   "cell_type": "code",
   "execution_count": 2,
   "id": "dc1fd63a",
   "metadata": {
    "ExecuteTime": {
     "end_time": "2024-05-25T05:32:35.033142Z",
     "start_time": "2024-05-25T05:32:34.122820Z"
    }
   },
   "outputs": [],
   "source": [
    "import pandas as pd"
   ]
  },
  {
   "cell_type": "code",
   "execution_count": 4,
   "id": "25cb124b",
   "metadata": {
    "ExecuteTime": {
     "end_time": "2024-05-25T05:32:35.690028Z",
     "start_time": "2024-05-25T05:32:35.491561Z"
    }
   },
   "outputs": [],
   "source": [
    "df = pd.read_csv(r\"model_final_data.csv\")\n"
   ]
  },
  {
   "cell_type": "code",
   "execution_count": 5,
   "id": "8ea96af5",
   "metadata": {
    "ExecuteTime": {
     "end_time": "2024-05-25T05:32:36.162590Z",
     "start_time": "2024-05-25T05:32:36.123533Z"
    }
   },
   "outputs": [],
   "source": [
    "values_to_drop = [\n",
    "    'New Brunswick', 'Hama', 'Dubai', 'South Island', 'Falls Church', 'New South Wales', 'Singapore', 'Fort Worth', 'Ontario',\n",
    "    'Hail', 'Doha', 'Queens', 'Burnsville', 'Arlington', 'Istanbul', 'Allentown', 'Beirut', 'Ho Chi Minh City', 'Victoria',\n",
    "    'Puerto Rico', 'Anaheim', 'Zurich', 'Emirate of Abu Dhabi', 'Alentejo', 'Marion', 'Vienna', 'Nairobi', 'Custer',\n",
    "    'Queensland', 'Makkah', 'Mount Prospect', 'Broward County', 'Addis Ababa', 'New York City', 'San Francisco', 'Boise',\n",
    "    'Central', 'Maharashtra', 'Western', 'Piedmont', 'Washington DC', 'Appingedam', 'Northern Portugal', 'Bohemia', 'Eastern',\n",
    "    'Seoul', 'Transylvania', 'Lazio', 'El Cajon', 'Cream Ridge', 'Zhejiang', 'Clarksville', 'Vientiane Prefecture',\n",
    "    'Southern District', 'Berlin', 'Seattle', 'Chicago', 'Quebec', 'Jerusalem District', 'San Jose', 'Eastern Norway',\n",
    "    'Salt Lake City', 'Boston', 'Philadelphia', 'Central Portugal', 'Raleigh', 'Izmir', 'Tel Aviv District', 'Amman',\n",
    "    'Sofia Region', 'Central Hungary', 'Atlanta', 'Wichita', 'Island of Gozo', 'Nova Scotia', 'Las Vegas', 'Escalante',\n",
    "    'Bavaria', 'Khartoum State', 'Stockholm', 'Northern District', 'Lima Region', 'Gauteng', 'Aqabah', 'Houston',\n",
    "    'Lake County', 'Marrakech-Safi', 'Detroit', 'Minya', 'Ann Arbor', 'Littleton', 'Greater Accra', 'Rajasthan',\n",
    "    'Brevard County', 'Greater Palm Springs', 'National Capital Territory of Delhi', 'Managua Department', 'Karnataka',\n",
    "    'Denver'\n",
    "]\n",
    "\n",
    "df = df[~df['Governorate'].isin(values_to_drop)]\n"
   ]
  },
  {
   "cell_type": "code",
   "execution_count": 6,
   "id": "1aed6d47",
   "metadata": {},
   "outputs": [
    {
     "name": "stdout",
     "output_type": "stream",
     "text": [
      "Giza\n",
      "Cairo\n",
      "Fayyum\n",
      "Red Sea and Sinai\n",
      "Suez\n",
      "Ismailia\n",
      "Alexandria\n",
      "Luxor\n",
      "Aswan\n",
      "Naama\n",
      "Matrouh\n",
      "Said\n",
      "New Egypt\n",
      "Fayetteville\n",
      "Nile River Valley\n",
      "River Nile State\n"
     ]
    }
   ],
   "source": []
  },
  {
   "cell_type": "code",
   "execution_count": null,
   "id": "41edc05a",
   "metadata": {
    "ExecuteTime": {
     "end_time": "2024-05-25T05:36:05.733973Z",
     "start_time": "2024-05-25T05:35:54.392981Z"
    }
   },
   "outputs": [],
   "source": [
    "import pandas as pd\n",
    "from sklearn.feature_extraction.text import TfidfVectorizer\n",
    "from sklearn.metrics.pairwise import linear_kernel\n",
    "import random\n",
    "\n",
    "# Sample Data\n",
    "selected_columns = ['Title', 'Tag', 'Review', 'Comment', 'Address', 'Country', 'Price', 'Rating', 'tags', 'Governorate']\n",
    "df = df[selected_columns].dropna()\n",
    "\n",
    "df['Tag'] = df['Tag'].astype(str)\n",
    "df['Review'] = df['Review'].astype(str)\n",
    "df['Comment'] = df['Comment'].astype(str)\n",
    "\n",
    "# Feature Engineering\n",
    "tfidf_vectorizer = TfidfVectorizer(stop_words='english')\n",
    "tfidf_matrix = tfidf_vectorizer.fit_transform(df['Tag'] + ' ' + df['Review'] + ' ' + df['Comment'])\n",
    "\n",
    "# Function to get recommendations based on user preferences, location, and price\n",
    "def get_recommendations_with_budget(country, governorates, survey_responses, df, num_days, budget):\n",
    "    # Filter places that match the user's country and any of the governorates\n",
    "    filtered_df = df[(df['Country'] == country) & (df['Governorate'].isin(governorates))]\n",
    "\n",
    "    # Check if there is data available\n",
    "    if filtered_df.empty:\n",
    "        print(\"No data found for the specified country and governorates.\")\n",
    "        return pd.DataFrame(columns=['Title', 'Price', 'tags', 'Governorate', 'Day'])\n",
    "\n",
    "    # Ensure \"Restaurants\" and \"Hotels\" are always present in user profile\n",
    "    user_profile = f\"{country} {' '.join(governorates)} {' '.join(survey_responses)}\"\n",
    "\n",
    "    # Transform the user profile using the same TF-IDF vectorizer\n",
    "    user_profile_vectorized = tfidf_vectorizer.transform([user_profile])\n",
    "\n",
    "    # Transform places' descriptions (assuming 'tags' contains relevant information)\n",
    "    places_vectorized = tfidf_vectorizer.transform(filtered_df['tags'])\n",
    "\n",
    "    # Calculate cosine similarity between user profile and places\n",
    "    sim_scores = linear_kernel(user_profile_vectorized, places_vectorized).flatten()\n",
    "\n",
    "    # Calculate the maximum price per day based on the budget and number of days\n",
    "    max_price_per_day = budget / num_days\n",
    "\n",
    "    # Calculate number of days per governorate\n",
    "    days_per_governorate = num_days // len(governorates)\n",
    "    extra_days = num_days % len(governorates)\n",
    "\n",
    "    governorate_days = {gov: days_per_governorate for gov in governorates}\n",
    "    for i in range(extra_days):\n",
    "        governorate_days[governorates[i]] += 1\n",
    "\n",
    "    # Print the number of days in each governorate\n",
    "    print(\"\\nNumber of days in each governorate:\")\n",
    "    for gov, days in governorate_days.items():\n",
    "        print(f\"{gov}: {days} days\")\n",
    "\n",
    "    # Initialize recommendations DataFrame\n",
    "    recommendations_df = pd.DataFrame(columns=['Title', 'Price', 'tags', 'Governorate', 'Day'])\n",
    "\n",
    "    # Loop through each day\n",
    "    day_counter = 1\n",
    "    for gov in governorates:\n",
    "        for day in range(governorate_days[gov]):\n",
    "            # Initialize daily recommendations list\n",
    "            daily_recommendations = []\n",
    "\n",
    "            # Filter places for the current governorate\n",
    "            governorate_df = filtered_df[filtered_df['Governorate'] == gov]\n",
    "\n",
    "            # On the first day in each governorate, recommend a hotel and two places related to the survey\n",
    "            if day == 0:\n",
    "                # Add hotel recommendation for the day\n",
    "                hotels = governorate_df[governorate_df['tags'].str.lower().str.contains('hotel') & (governorate_df['Price'] <= max_price_per_day)]\n",
    "                if not hotels.empty:\n",
    "                    hotel_recommendation = hotels.sample(1)[['Title', 'Price', 'tags', 'Governorate']]\n",
    "                    daily_recommendations.append(hotel_recommendation)\n",
    "\n",
    "            # Add restaurant recommendation for each day\n",
    "            restaurants = governorate_df[governorate_df['tags'].str.lower().str.contains('restaurant') & (governorate_df['Price'] <= max_price_per_day)]\n",
    "            if not restaurants.empty:\n",
    "                restaurant_recommendation = restaurants.sample(1)[['Title', 'Price', 'tags', 'Governorate']]\n",
    "                daily_recommendations.append(restaurant_recommendation)\n",
    "\n",
    "            # Add two places related to the survey for each day\n",
    "            for response in survey_responses:\n",
    "                # Get indices of places containing the current survey response\n",
    "                response_indices = [i for i, tag in enumerate(governorate_df['tags']) if response.lower() in tag.lower()]\n",
    "\n",
    "                # If there are places with the current tag, select a random one within the budget\n",
    "                if response_indices:\n",
    "                    valid_indices = [idx for idx in response_indices if governorate_df.iloc[idx]['Price'] <= max_price_per_day]\n",
    "                    if valid_indices:\n",
    "                        random_index = random.choice(valid_indices)\n",
    "                        recommendation = governorate_df.iloc[[random_index]][['Title', 'Price', 'tags', 'Governorate']]\n",
    "                        daily_recommendations.append(recommendation)\n",
    "\n",
    "            # Add the daily recommendations to the overall recommendations DataFrame\n",
    "            for recommendation in daily_recommendations:\n",
    "                recommendation['Day'] = day_counter\n",
    "                recommendations_df = pd.concat([recommendations_df, recommendation])\n",
    "\n",
    "            # Print recommendations for the day\n",
    "            print(f\"\\nRecommendations for Day {day_counter}:\")\n",
    "            for i, recommendation in enumerate(daily_recommendations):\n",
    "                print(f\"\\nRecommendation {i + 1}:\")\n",
    "                print(f\"Title: {recommendation['Title'].values[0]}\")\n",
    "                print(f\"Price: {recommendation['Price'].values[0]}\")\n",
    "                print(f\"Tags: {recommendation['tags'].values[0]}\")\n",
    "                print(f\"Governorate: {recommendation['Governorate'].values[0]}\")\n",
    "\n",
    "            day_counter += 1\n",
    "\n",
    "    return recommendations_df\n",
    "\n",
    "# Example: Get recommendations for a user with a specific country, governorates, survey responses, number of days, and budget\n",
    "user_country = \"Egypt\"\n",
    "user_governorates = [\"Alexandria\", \"Cairo\", \"Giza\", \"Luxor\",\"Aswan\",\"Fayyum\",\"Red Sea and Sinai\"]\n",
    "user_survey_responses = [\"Museums\", \"water places\", \"for fun\", \"Archaeological tourism\", \"Religious Tourism\", \"malls\", \"parks\", \"Tours\", \"Natural views\"]\n",
    "num_days = int(input(\"Enter the number of days you want to spend: \"))\n",
    "budget = float(input(\"Enter your budget: \"))\n",
    "\n",
    "recommendations = get_recommendations_with_budget(user_country, user_governorates, user_survey_responses, df, num_days, budget)\n"
   ]
  },
  {
   "cell_type": "code",
   "execution_count": null,
   "id": "95e1299c",
   "metadata": {},
   "outputs": [],
   "source": []
  }
 ],
 "metadata": {
  "kernelspec": {
   "display_name": "Python 3 (ipykernel)",
   "language": "python",
   "name": "python3"
  },
  "language_info": {
   "codemirror_mode": {
    "name": "ipython",
    "version": 3
   },
   "file_extension": ".py",
   "mimetype": "text/x-python",
   "name": "python",
   "nbconvert_exporter": "python",
   "pygments_lexer": "ipython3",
   "version": "3.9.13"
  },
  "varInspector": {
   "cols": {
    "lenName": 16,
    "lenType": 16,
    "lenVar": 40
   },
   "kernels_config": {
    "python": {
     "delete_cmd_postfix": "",
     "delete_cmd_prefix": "del ",
     "library": "var_list.py",
     "varRefreshCmd": "print(var_dic_list())"
    },
    "r": {
     "delete_cmd_postfix": ") ",
     "delete_cmd_prefix": "rm(",
     "library": "var_list.r",
     "varRefreshCmd": "cat(var_dic_list()) "
    }
   },
   "types_to_exclude": [
    "module",
    "function",
    "builtin_function_or_method",
    "instance",
    "_Feature"
   ],
   "window_display": false
  }
 },
 "nbformat": 4,
 "nbformat_minor": 5
}
