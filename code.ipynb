{
 "cells": [
  {
   "cell_type": "code",
   "execution_count": 15,
   "id": "dc1fd63a",
   "metadata": {
    "ExecuteTime": {
     "end_time": "2024-03-18T15:42:53.795936Z",
     "start_time": "2024-03-18T15:42:53.774966Z"
    }
   },
   "outputs": [],
   "source": [
    "import pandas as pd"
   ]
  },
  {
   "cell_type": "code",
   "execution_count": 16,
   "id": "25cb124b",
   "metadata": {
    "ExecuteTime": {
     "end_time": "2024-03-18T15:42:54.872858Z",
     "start_time": "2024-03-18T15:42:54.600410Z"
    }
   },
   "outputs": [],
   "source": [
    "df = pd.read_csv(r\"C:\\Users\\spark\\Downloads\\final_data.csv\")\n"
   ]
  },
  {
   "cell_type": "code",
   "execution_count": 18,
   "id": "f1bed781",
   "metadata": {
    "ExecuteTime": {
     "end_time": "2024-03-18T15:43:37.358198Z",
     "start_time": "2024-03-18T15:43:31.071068Z"
    }
   },
   "outputs": [
    {
     "name": "stdout",
     "output_type": "stream",
     "text": [
      "Enter the number of days you want to spend: 2\n",
      "Enter your budget: 300\n",
      "\n",
      "Recommendations for Day 1:\n",
      "\n",
      "Recommendation 1:\n",
      "Title: Africa Safari Park & Motel\n",
      "Price: 34.77\n",
      "Tags: Hotel\n",
      "Governorate: Alexandria\n",
      "\n",
      "Recommendation 2:\n",
      "Title: Nonna Cucina\n",
      "Price: 32.21\n",
      "Tags: Restaurant\n",
      "Governorate: Alexandria\n",
      "\n",
      "Recommendation 3:\n",
      "Title: Alexandria National Museum\n",
      "Price: 71.13\n",
      "Tags: Museums\n",
      "Governorate: Alexandria\n",
      "\n",
      "Recommendation 4:\n",
      "Title: Fort Qaitbey\n",
      "Price: 31.8\n",
      "Tags: Archaeological tourism\n",
      "Governorate: Alexandria\n",
      "\n",
      "Recommendation 5:\n",
      "Title: Saint Mark's Coptic Orthodox Cathedral\n",
      "Price: 36.13\n",
      "Tags: Religious Tourism\n",
      "Governorate: Alexandria\n",
      "\n",
      "Recommendation 6:\n",
      "Title: Travelish Tours\n",
      "Price: 68.15\n",
      "Tags: Tours\n",
      "Governorate: Alexandria\n",
      "\n",
      "Recommendations for Day 2:\n",
      "\n",
      "Recommendation 1:\n",
      "Title: Cap D'or\n",
      "Price: 36.26\n",
      "Tags: Restaurant\n",
      "Governorate: Alexandria\n",
      "\n",
      "Recommendation 2:\n",
      "Title: Royal Jewelry Museum\n",
      "Price: 61.67\n",
      "Tags: Museums\n",
      "Governorate: Alexandria\n",
      "\n",
      "Recommendation 3:\n",
      "Title: Catacombs of Kom el Shoqafa\n",
      "Price: 131.4\n",
      "Tags: Archaeological tourism\n",
      "Governorate: Alexandria\n",
      "\n",
      "Recommendation 4:\n",
      "Title: Saint Mark's Coptic Orthodox Cathedral\n",
      "Price: 36.13\n",
      "Tags: Religious Tourism\n",
      "Governorate: Alexandria\n",
      "\n",
      "Recommendation 5:\n",
      "Title: Travelish Tours\n",
      "Price: 68.15\n",
      "Tags: Tours\n",
      "Governorate: Alexandria\n"
     ]
    }
   ],
   "source": [
    "import pandas as pd\n",
    "from sklearn.feature_extraction.text import TfidfVectorizer\n",
    "from sklearn.metrics.pairwise import linear_kernel\n",
    "import random\n",
    "\n",
    "# Sample Data\n",
    "selected_columns = ['Title', 'Tag', 'Review', 'Comment', 'Address', 'Country', 'Price', 'Rating', 'tags', 'Governorate']\n",
    "df = df[selected_columns].dropna()\n",
    "\n",
    "df['Tag'] = df['Tag'].astype(str)\n",
    "df['Review'] = df['Review'].astype(str)\n",
    "df['Comment'] = df['Comment'].astype(str)\n",
    "\n",
    "# Feature Engineering\n",
    "tfidf_vectorizer = TfidfVectorizer(stop_words='english')\n",
    "tfidf_matrix = tfidf_vectorizer.fit_transform(df['Tag'] + ' ' + df['Review'] + ' ' + df['Comment'])\n",
    "\n",
    "# Function to get recommendations based on user preferences, location, and price\n",
    "def get_recommendations_with_budget(country, governorate, survey_responses, df, num_days, budget):\n",
    "    # Filter places that match the user's country and governorate\n",
    "    filtered_df = df[(df['Country'] == country) & (df['Governorate'] == governorate)]\n",
    "\n",
    "    # Check if there is data available\n",
    "    if filtered_df.empty:\n",
    "        print(\"No data found for the specified country and governorate.\")\n",
    "        return pd.DataFrame(columns=['Title', 'Price', 'tags', 'Governorate', 'Day'])\n",
    "\n",
    "    # Ensure \"Restaurants\" and \"Hotels\" are always present in user profile\n",
    "    user_profile = f\"{country} {governorate} {' '.join(survey_responses)}\"\n",
    "\n",
    "    # Transform the user profile using the same TF-IDF vectorizer\n",
    "    user_profile_vectorized = tfidf_vectorizer.transform([user_profile])\n",
    "\n",
    "    # Transform places' descriptions (assuming 'tags' contains relevant information)\n",
    "    places_vectorized = tfidf_vectorizer.transform(filtered_df['tags'])\n",
    "\n",
    "    # Calculate cosine similarity between user profile and places\n",
    "    sim_scores = linear_kernel(user_profile_vectorized, places_vectorized).flatten()\n",
    "\n",
    "    # Check if there are places to recommend\n",
    "    if not any(response_indices for response in survey_responses for response_indices in [i for i, tag in enumerate(filtered_df['tags']) if response.lower() in tag.lower()]):\n",
    "        print(\"No suitable places found for the given survey responses.\")\n",
    "        return pd.DataFrame()\n",
    "\n",
    "    # Calculate the maximum price per day based on the budget and number of days\n",
    "    max_price_per_day = budget / num_days\n",
    "\n",
    "    # Initialize recommendations DataFrame\n",
    "    recommendations_df = pd.DataFrame(columns=['Title', 'Price', 'tags', 'Governorate', 'Day'])\n",
    "\n",
    "    # Loop through each day\n",
    "    for day in range(1, num_days + 1):\n",
    "        # Initialize daily recommendations list\n",
    "        daily_recommendations = []\n",
    "\n",
    "        # On the first day, recommend a hotel and two places related to the survey\n",
    "        if day == 1:\n",
    "            # Add hotel recommendation for the day\n",
    "            hotel_recommendation = filtered_df[filtered_df['tags'].str.lower().str.contains('hotel') & (filtered_df['Price'] <= max_price_per_day)].sample(1)[['Title', 'Price', 'tags', 'Governorate']]\n",
    "            daily_recommendations.append(hotel_recommendation)\n",
    "\n",
    "        # Add restaurant recommendation for each day\n",
    "        restaurant_recommendation = filtered_df[filtered_df['tags'].str.lower().str.contains('restaurant') & (filtered_df['Price'] <= max_price_per_day)].sample(1)[['Title', 'Price', 'tags', 'Governorate']]\n",
    "        daily_recommendations.append(restaurant_recommendation)\n",
    "\n",
    "        # Add two places related to the survey for each day\n",
    "        for response in survey_responses:\n",
    "            # Get indices of places containing the current survey response\n",
    "            response_indices = [i for i, tag in enumerate(filtered_df['tags']) if response.lower() in tag.lower()]\n",
    "\n",
    "            # If there are places with the current tag, select a random one within the budget\n",
    "            if response_indices:\n",
    "                valid_indices = [idx for idx in response_indices if filtered_df.iloc[idx]['Price'] <= max_price_per_day]\n",
    "                if valid_indices:\n",
    "                    random_index = random.choice(valid_indices)\n",
    "                    recommendation = filtered_df.iloc[[random_index]][['Title', 'Price', 'tags', 'Governorate']]\n",
    "                    daily_recommendations.append(recommendation)\n",
    "\n",
    "        # Add the daily recommendations to the overall recommendations DataFrame\n",
    "        for recommendation in daily_recommendations:\n",
    "            recommendation['Day'] = day\n",
    "            recommendations_df = pd.concat([recommendations_df, recommendation])\n",
    "\n",
    "        # Print recommendations for the day\n",
    "        print(f\"\\nRecommendations for Day {day}:\")\n",
    "        for i, recommendation in enumerate(daily_recommendations):\n",
    "            print(f\"\\nRecommendation {i + 1}:\")\n",
    "            print(f\"Title: {recommendation['Title'].values[0]}\")\n",
    "            print(f\"Price: {recommendation['Price'].values[0]}\")\n",
    "            print(f\"Tags: {recommendation['tags'].values[0]}\")\n",
    "            print(f\"Governorate: {recommendation['Governorate'].values[0]}\")\n",
    "\n",
    "    return recommendations_df\n",
    "\n",
    "# Example: Get recommendations for a user with a specific country, governorate, survey responses, number of days, and budget\n",
    "user_country = \"Egypt\"\n",
    "user_governorate = \"Alexandria\"\n",
    "user_survey_responses = [\"Museums\", \"water places\", \"for fun\",\"Archaeological tourism\",\"Religious Tourism\",\"malls \",\"parks\",\"Tours\",\"Natural views\"]\n",
    "num_days = int(input(\"Enter the number of days you want to spend: \"))\n",
    "budget = float(input(\"Enter your budget: \"))\n",
    "\n",
    "recommendations = get_recommendations_with_budget(user_country, user_governorate, user_survey_responses, df, num_days, budget)\n",
    "\n"
   ]
  },
  {
   "cell_type": "code",
   "execution_count": null,
   "id": "6df60bdc",
   "metadata": {},
   "outputs": [],
   "source": []
  }
 ],
 "metadata": {
  "kernelspec": {
   "display_name": "Python 3 (ipykernel)",
   "language": "python",
   "name": "python3"
  },
  "language_info": {
   "codemirror_mode": {
    "name": "ipython",
    "version": 3
   },
   "file_extension": ".py",
   "mimetype": "text/x-python",
   "name": "python",
   "nbconvert_exporter": "python",
   "pygments_lexer": "ipython3",
   "version": "3.9.13"
  },
  "varInspector": {
   "cols": {
    "lenName": 16,
    "lenType": 16,
    "lenVar": 40
   },
   "kernels_config": {
    "python": {
     "delete_cmd_postfix": "",
     "delete_cmd_prefix": "del ",
     "library": "var_list.py",
     "varRefreshCmd": "print(var_dic_list())"
    },
    "r": {
     "delete_cmd_postfix": ") ",
     "delete_cmd_prefix": "rm(",
     "library": "var_list.r",
     "varRefreshCmd": "cat(var_dic_list()) "
    }
   },
   "types_to_exclude": [
    "module",
    "function",
    "builtin_function_or_method",
    "instance",
    "_Feature"
   ],
   "window_display": false
  }
 },
 "nbformat": 4,
 "nbformat_minor": 5
}
